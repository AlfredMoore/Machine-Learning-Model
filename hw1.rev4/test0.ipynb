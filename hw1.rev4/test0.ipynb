{
 "cells": [
  {
   "cell_type": "code",
   "execution_count": 19,
   "metadata": {},
   "outputs": [
    {
     "name": "stdout",
     "output_type": "stream",
     "text": [
      "0.052485543\n",
      "-8.0\n"
     ]
    }
   ],
   "source": [
    "import numpy as np\n",
    "import matplotlib\n",
    "import matplotlib.pyplot as plt\n",
    "import linear_regression\n",
    "# eta = np.arange(0.01,1,0.01)\n",
    "# iteration_gd = eta*2\n",
    "# iteration_sgd = eta*3\n",
    "# line1, = plt.plot(eta, iteration_gd)\n",
    "# line2, = plt.plot(eta, iteration_sgd)\n",
    "# plt.xlabel('eta')\n",
    "# plt.ylabel('iteration')\n",
    "# plt.legend([line1, line2],['GD','SGD'])\n",
    "# plt.show()\n",
    "# print(5.0*np.identity(5))\n",
    "# lam_arr = np.array([0, 1e-8, 1e-7, 1e-6, 1e-5, 1e-4, 1e-3, 1e-2, 1e-1, 1])\n",
    "# print(lam_arr)\n",
    "# print(1e-1)\n",
    "# print(np.diag([1,2,3,4]))\n",
    "\n",
    "x_train, y_train, x_test, y_test = linear_regression.load_data()\n",
    "X_train = linear_regression.generate_polynomial_features(x_train, M=1)\n",
    "X_test = linear_regression.generate_polynomial_features(x_test, M=1)\n",
    "x_space = np.linspace(x_train.min(), x_train.max(), num=50)\n",
    "y_space = np.zeros_like(x_space)\n",
    "print(np.min(x_train))\n",
    "print(np.log10(1e-8))"
   ]
  }
 ],
 "metadata": {
  "kernelspec": {
   "display_name": "Python310",
   "language": "python",
   "name": "python3"
  },
  "language_info": {
   "codemirror_mode": {
    "name": "ipython",
    "version": 3
   },
   "file_extension": ".py",
   "mimetype": "text/x-python",
   "name": "python",
   "nbconvert_exporter": "python",
   "pygments_lexer": "ipython3",
   "version": "3.10.8 | packaged by conda-forge | (main, Nov 22 2022, 08:16:33) [MSC v.1929 64 bit (AMD64)]"
  },
  "orig_nbformat": 4,
  "vscode": {
   "interpreter": {
    "hash": "fb306cec18fb57c16d5833f8f75e5df8da7ca13fbda6637ab8ae393cd09e1282"
   }
  }
 },
 "nbformat": 4,
 "nbformat_minor": 2
}
